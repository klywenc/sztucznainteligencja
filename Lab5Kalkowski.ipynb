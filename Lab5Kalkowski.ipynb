{
 "cells": [
  {
   "cell_type": "code",
   "execution_count": 1,
   "id": "917dd964-6b51-443e-b254-af99016555c7",
   "metadata": {},
   "outputs": [],
   "source": [
    "import os\n",
    "import requests\n",
    "from dotenv import load_dotenv\n",
    "from bs4 import BeautifulSoup\n",
    "from IPython.display import Markdown, display\n",
    "import ollama"
   ]
  },
  {
   "cell_type": "code",
   "execution_count": 15,
   "id": "03c234b5-08e4-4387-9d7b-5a019b42247f",
   "metadata": {},
   "outputs": [
    {
     "ename": "ResponseError",
     "evalue": "model is required (status code: 400)",
     "output_type": "error",
     "traceback": [
      "\u001b[31m---------------------------------------------------------------------------\u001b[39m",
      "\u001b[31mResponseError\u001b[39m                             Traceback (most recent call last)",
      "\u001b[36mCell\u001b[39m\u001b[36m \u001b[39m\u001b[32mIn[15]\u001b[39m\u001b[32m, line 4\u001b[39m\n\u001b[32m      1\u001b[39m message = \u001b[33m\"\u001b[39m\u001b[33mPowiedz mi cos o transformerach\u001b[39m\u001b[33m\"\u001b[39m\n\u001b[32m      2\u001b[39m \u001b[38;5;66;03m#response = ollama.chat(model='llama3.2', messages=[{\"role\":\"user\", \"content\":message}])\u001b[39;00m\n\u001b[32m      3\u001b[39m \u001b[38;5;66;03m#response = ollama.chat(model='deepseek-r1:14b', messages=[{\"role\":\"user\", \"content\":message}])\u001b[39;00m\n\u001b[32m----> \u001b[39m\u001b[32m4\u001b[39m response = \u001b[43mollama\u001b[49m\u001b[43m.\u001b[49m\u001b[43mchat\u001b[49m\u001b[43m(\u001b[49m\u001b[43mmodel\u001b[49m\u001b[43m=\u001b[49m\u001b[33;43m'\u001b[39;49m\u001b[33;43mllama 3.2\u001b[39;49m\u001b[33;43m'\u001b[39;49m\u001b[43m,\u001b[49m\u001b[43m \u001b[49m\u001b[43mmessages\u001b[49m\u001b[43m=\u001b[49m\u001b[43m[\u001b[49m\u001b[43m{\u001b[49m\u001b[33;43m\"\u001b[39;49m\u001b[33;43mrole\u001b[39;49m\u001b[33;43m\"\u001b[39;49m\u001b[43m:\u001b[49m\u001b[33;43m\"\u001b[39;49m\u001b[33;43muser\u001b[39;49m\u001b[33;43m\"\u001b[39;49m\u001b[43m,\u001b[49m\u001b[43m \u001b[49m\u001b[33;43m\"\u001b[39;49m\u001b[33;43mcontent\u001b[39;49m\u001b[33;43m\"\u001b[39;49m\u001b[43m:\u001b[49m\u001b[43mmessage\u001b[49m\u001b[43m}\u001b[49m\u001b[43m]\u001b[49m\u001b[43m)\u001b[49m\n\u001b[32m      5\u001b[39m \u001b[38;5;28mprint\u001b[39m(response[\u001b[33m'\u001b[39m\u001b[33mmessage\u001b[39m\u001b[33m'\u001b[39m][\u001b[33m'\u001b[39m\u001b[33mcontent\u001b[39m\u001b[33m'\u001b[39m])\n",
      "\u001b[36mFile \u001b[39m\u001b[32m~\\anaconda3\\envs\\llmy\\Lib\\site-packages\\ollama\\_client.py:342\u001b[39m, in \u001b[36mClient.chat\u001b[39m\u001b[34m(self, model, messages, tools, stream, think, format, options, keep_alive)\u001b[39m\n\u001b[32m    297\u001b[39m \u001b[38;5;28;01mdef\u001b[39;00m\u001b[38;5;250m \u001b[39m\u001b[34mchat\u001b[39m(\n\u001b[32m    298\u001b[39m   \u001b[38;5;28mself\u001b[39m,\n\u001b[32m    299\u001b[39m   model: \u001b[38;5;28mstr\u001b[39m = \u001b[33m'\u001b[39m\u001b[33m'\u001b[39m,\n\u001b[32m   (...)\u001b[39m\u001b[32m    307\u001b[39m   keep_alive: Optional[Union[\u001b[38;5;28mfloat\u001b[39m, \u001b[38;5;28mstr\u001b[39m]] = \u001b[38;5;28;01mNone\u001b[39;00m,\n\u001b[32m    308\u001b[39m ) -> Union[ChatResponse, Iterator[ChatResponse]]:\n\u001b[32m    309\u001b[39m \u001b[38;5;250m  \u001b[39m\u001b[33;03m\"\"\"\u001b[39;00m\n\u001b[32m    310\u001b[39m \u001b[33;03m  Create a chat response using the requested model.\u001b[39;00m\n\u001b[32m    311\u001b[39m \n\u001b[32m   (...)\u001b[39m\u001b[32m    340\u001b[39m \u001b[33;03m  Returns `ChatResponse` if `stream` is `False`, otherwise returns a `ChatResponse` generator.\u001b[39;00m\n\u001b[32m    341\u001b[39m \u001b[33;03m  \"\"\"\u001b[39;00m\n\u001b[32m--> \u001b[39m\u001b[32m342\u001b[39m   \u001b[38;5;28;01mreturn\u001b[39;00m \u001b[38;5;28;43mself\u001b[39;49m\u001b[43m.\u001b[49m\u001b[43m_request\u001b[49m\u001b[43m(\u001b[49m\n\u001b[32m    343\u001b[39m \u001b[43m    \u001b[49m\u001b[43mChatResponse\u001b[49m\u001b[43m,\u001b[49m\n\u001b[32m    344\u001b[39m \u001b[43m    \u001b[49m\u001b[33;43m'\u001b[39;49m\u001b[33;43mPOST\u001b[39;49m\u001b[33;43m'\u001b[39;49m\u001b[43m,\u001b[49m\n\u001b[32m    345\u001b[39m \u001b[43m    \u001b[49m\u001b[33;43m'\u001b[39;49m\u001b[33;43m/api/chat\u001b[39;49m\u001b[33;43m'\u001b[39;49m\u001b[43m,\u001b[49m\n\u001b[32m    346\u001b[39m \u001b[43m    \u001b[49m\u001b[43mjson\u001b[49m\u001b[43m=\u001b[49m\u001b[43mChatRequest\u001b[49m\u001b[43m(\u001b[49m\n\u001b[32m    347\u001b[39m \u001b[43m      \u001b[49m\u001b[43mmodel\u001b[49m\u001b[43m=\u001b[49m\u001b[43mmodel\u001b[49m\u001b[43m,\u001b[49m\n\u001b[32m    348\u001b[39m \u001b[43m      \u001b[49m\u001b[43mmessages\u001b[49m\u001b[43m=\u001b[49m\u001b[38;5;28;43mlist\u001b[39;49m\u001b[43m(\u001b[49m\u001b[43m_copy_messages\u001b[49m\u001b[43m(\u001b[49m\u001b[43mmessages\u001b[49m\u001b[43m)\u001b[49m\u001b[43m)\u001b[49m\u001b[43m,\u001b[49m\n\u001b[32m    349\u001b[39m \u001b[43m      \u001b[49m\u001b[43mtools\u001b[49m\u001b[43m=\u001b[49m\u001b[38;5;28;43mlist\u001b[39;49m\u001b[43m(\u001b[49m\u001b[43m_copy_tools\u001b[49m\u001b[43m(\u001b[49m\u001b[43mtools\u001b[49m\u001b[43m)\u001b[49m\u001b[43m)\u001b[49m\u001b[43m,\u001b[49m\n\u001b[32m    350\u001b[39m \u001b[43m      \u001b[49m\u001b[43mstream\u001b[49m\u001b[43m=\u001b[49m\u001b[43mstream\u001b[49m\u001b[43m,\u001b[49m\n\u001b[32m    351\u001b[39m \u001b[43m      \u001b[49m\u001b[43mthink\u001b[49m\u001b[43m=\u001b[49m\u001b[43mthink\u001b[49m\u001b[43m,\u001b[49m\n\u001b[32m    352\u001b[39m \u001b[43m      \u001b[49m\u001b[38;5;28;43mformat\u001b[39;49m\u001b[43m=\u001b[49m\u001b[38;5;28;43mformat\u001b[39;49m\u001b[43m,\u001b[49m\n\u001b[32m    353\u001b[39m \u001b[43m      \u001b[49m\u001b[43moptions\u001b[49m\u001b[43m=\u001b[49m\u001b[43moptions\u001b[49m\u001b[43m,\u001b[49m\n\u001b[32m    354\u001b[39m \u001b[43m      \u001b[49m\u001b[43mkeep_alive\u001b[49m\u001b[43m=\u001b[49m\u001b[43mkeep_alive\u001b[49m\u001b[43m,\u001b[49m\n\u001b[32m    355\u001b[39m \u001b[43m    \u001b[49m\u001b[43m)\u001b[49m\u001b[43m.\u001b[49m\u001b[43mmodel_dump\u001b[49m\u001b[43m(\u001b[49m\u001b[43mexclude_none\u001b[49m\u001b[43m=\u001b[49m\u001b[38;5;28;43;01mTrue\u001b[39;49;00m\u001b[43m)\u001b[49m\u001b[43m,\u001b[49m\n\u001b[32m    356\u001b[39m \u001b[43m    \u001b[49m\u001b[43mstream\u001b[49m\u001b[43m=\u001b[49m\u001b[43mstream\u001b[49m\u001b[43m,\u001b[49m\n\u001b[32m    357\u001b[39m \u001b[43m  \u001b[49m\u001b[43m)\u001b[49m\n",
      "\u001b[36mFile \u001b[39m\u001b[32m~\\anaconda3\\envs\\llmy\\Lib\\site-packages\\ollama\\_client.py:180\u001b[39m, in \u001b[36mClient._request\u001b[39m\u001b[34m(self, cls, stream, *args, **kwargs)\u001b[39m\n\u001b[32m    176\u001b[39m         \u001b[38;5;28;01myield\u001b[39;00m \u001b[38;5;28mcls\u001b[39m(**part)\n\u001b[32m    178\u001b[39m   \u001b[38;5;28;01mreturn\u001b[39;00m inner()\n\u001b[32m--> \u001b[39m\u001b[32m180\u001b[39m \u001b[38;5;28;01mreturn\u001b[39;00m \u001b[38;5;28mcls\u001b[39m(**\u001b[38;5;28;43mself\u001b[39;49m\u001b[43m.\u001b[49m\u001b[43m_request_raw\u001b[49m\u001b[43m(\u001b[49m\u001b[43m*\u001b[49m\u001b[43margs\u001b[49m\u001b[43m,\u001b[49m\u001b[43m \u001b[49m\u001b[43m*\u001b[49m\u001b[43m*\u001b[49m\u001b[43mkwargs\u001b[49m\u001b[43m)\u001b[49m.json())\n",
      "\u001b[36mFile \u001b[39m\u001b[32m~\\anaconda3\\envs\\llmy\\Lib\\site-packages\\ollama\\_client.py:124\u001b[39m, in \u001b[36mClient._request_raw\u001b[39m\u001b[34m(self, *args, **kwargs)\u001b[39m\n\u001b[32m    122\u001b[39m   \u001b[38;5;28;01mreturn\u001b[39;00m r\n\u001b[32m    123\u001b[39m \u001b[38;5;28;01mexcept\u001b[39;00m httpx.HTTPStatusError \u001b[38;5;28;01mas\u001b[39;00m e:\n\u001b[32m--> \u001b[39m\u001b[32m124\u001b[39m   \u001b[38;5;28;01mraise\u001b[39;00m ResponseError(e.response.text, e.response.status_code) \u001b[38;5;28;01mfrom\u001b[39;00m\u001b[38;5;250m \u001b[39m\u001b[38;5;28;01mNone\u001b[39;00m\n\u001b[32m    125\u001b[39m \u001b[38;5;28;01mexcept\u001b[39;00m httpx.ConnectError:\n\u001b[32m    126\u001b[39m   \u001b[38;5;28;01mraise\u001b[39;00m \u001b[38;5;167;01mConnectionError\u001b[39;00m(CONNECTION_ERROR_MESSAGE) \u001b[38;5;28;01mfrom\u001b[39;00m\u001b[38;5;250m \u001b[39m\u001b[38;5;28;01mNone\u001b[39;00m\n",
      "\u001b[31mResponseError\u001b[39m: model is required (status code: 400)"
     ]
    }
   ],
   "source": [
    "message = \"Powiedz mi cos o transformerach\"\n",
    "#response = ollama.chat(model='llama3.2', messages=[{\"role\":\"user\", \"content\":message}])\n",
    "#response = ollama.chat(model='deepseek-r1:14b', messages=[{\"role\":\"user\", \"content\":message}])\n",
    "response = ollama.chat(model='deepseek-r1:1.5b', messages=[{\"role\":\"user\", \"content\":message}])\n",
    "print(response['message']['content'])"
   ]
  },
  {
   "cell_type": "code",
   "execution_count": 5,
   "id": "05073813-00a0-4dda-aafe-c7b0dec50197",
   "metadata": {},
   "outputs": [],
   "source": [
    "# Niektóre strony internetowe wymagają użycia odpowiednich nagłówków podczas ich pobierania:\n",
    "headers = {\n",
    "\"User-Agent\": \"Mozilla/5.0 (Windows NT 10.0; Win64; x64) AppleWebKit/537.36 (KHTML, like Gecko) Chrome/117.0.0.0 Safari/537.36\"\n",
    "}\n",
    "\n",
    "# Klasa reprezentująca stronę internetową, która zostanie pobeana do podsumowania\n",
    "\n",
    "class Website:\n",
    "    def __init__(self, url):\n",
    "        self.url = url\n",
    "        response = requests.get(url, headers=headers)\n",
    "        # Użyjemy bibliotek BeautifulSoup do zbudowania biektu z treścią\n",
    "        soup = BeautifulSoup(response.content, 'html.parser')\n",
    "        self.title = soup.title.string if soup.title else \"No title found\"\n",
    "        for irrelevant in soup.body([\"script\", \"style\", \"img\", \"input\", \"link\", \"ul\", \"li\", \"a\"]):\n",
    "            irrelevant.decompose()\n",
    "        self.text = soup.body.get_text(separator=\"\\n\", strip=True)"
   ]
  },
  {
   "cell_type": "code",
   "execution_count": 11,
   "id": "c2a9baa2-0075-4ab2-ab48-1598cfb44422",
   "metadata": {},
   "outputs": [
    {
     "name": "stdout",
     "output_type": "stream",
     "text": [
      "Title:  Duży model językowy – Wikipedia, wolna encyklopedia\n",
      "text:  Menu główne\n",
      "Menu główne\n",
      "przypnij\n",
      "ukryj\n",
      "Nawigacja\n",
      "Dla czytelników\n",
      "Dla wikipedystów\n",
      "Szukaj\n",
      "Wygląd\n",
      "Narzędzia osobiste\n",
      "Spis treści\n",
      "przypnij\n",
      "ukryj\n",
      "Przełącz stan spisu treści\n",
      "Duży model językowy\n",
      "56 języków\n",
      "polski\n",
      "Narzędzia\n",
      "Narzędzia\n",
      "przypnij\n",
      "ukryj\n",
      "Działania\n",
      "Ogólne\n",
      "Drukuj lub eksportuj\n",
      "W innych projektach\n",
      "Wygląd\n",
      "przypnij\n",
      "ukryj\n",
      "Z Wikipedii, wolnej encyklopedii\n",
      "Duży model językowy\n",
      "(ang.\n",
      "large language model\n",
      ",\n",
      "LLM\n",
      ")\n",
      "–\n",
      "wyszkolony na dużej ilości danych umożliwiający generowanie tekstu oraz realizację zadań związanych z\n",
      ". Modele\n",
      "LLM\n",
      "są szkolone w ramach\n",
      "lub słabo nadzorowanego\n",
      "z wykorzystaniem dużych ilości danych tekstowych. Proces ten jest intensywny obliczeniowo\n",
      ". Duże modele językowe mogą być wykorzystywane do generowana tekstu poprzez wielokrotne przewidywanie następnego tokenu lub słowa, przez co zaliczane są do\n",
      ".\n",
      "Duże modele językowe są\n",
      ". Największe i najbardziej zdolne modele językowe oparte są na architekturze\n",
      ".\n",
      "Przykładami dużych modeli językowych są modele z serii\n",
      "zbudowane przez\n",
      "(np.\n",
      "﻿\n",
      ",\n",
      "﻿\n",
      "), używane w chatbotach\n",
      "i Microsoft Copilot, a także modele\n",
      "zbudowane przez\n",
      ". Istnieją również chińskie modele jak\n",
      "czy polskie jak\n",
      "i\n",
      ".\n",
      "Historia\n",
      "[\n",
      "|\n",
      "]\n",
      "Przed rokiem 2017 istniało kilka modeli językowych, które — jak na ówczesne możliwości — były uważane za duże. W latach 90.\n",
      "pozwoliły na rozwinięcie się metod statystycznego modelowania języka. W 2001 roku model bazujący na\n",
      "został wytrenowany na 300 milionach słów\n",
      ". W latach dwutysięcznych, wraz z popularyzacją\n",
      ", rozpoczęto tworzenie zbiorów językowych o skali porównywalnej z Internetem\n",
      ", na bazie których podjęto próby uczenia statystycznych modeli językowych\n",
      ".\n",
      "Po tym, jak sieci neuronowe stały się popularne w przetwarzaniu obrazów około 2012 roku\n",
      ", zaczęto je również stosować do przetwarzania tekstu. W 2016 roku Google wprowadziło w\n",
      "swój model językowy oparty na\n",
      ".\n",
      "Wykres pokazujący łączną ilość obliczeń (we\n",
      "-sach) wymaganą do wytrenowania modelu w kolejnych latach dla wybranych dużych modeli AI. Większość dużych modeli to modele językowe lub mutlimodalne ze zdolnościami przetwarzania języka.\n",
      "W 2017 roku naukowcy z Google zaproponowali architekturę\n",
      "opartą na\n",
      "opracowanym w 2014 roku\n",
      ". W 2018 roku Google wypuściło model BERT oparty wyłącznie na\n",
      ". Od 2023 roku akademickie i badawcze zainteresowanie BERT-em zaczęło stopniowo maleć na rzecz modeli opartych na\n",
      "jak\n",
      ".\n",
      "Od 2022 roku zyskują na popularności modele o otwartym kodzie źródłowym – początkowo za sprawą projektów takich jak BLOOM\n",
      "i\n",
      ", choć oba objęte są ograniczeniami dotyczącymi zakresu zastosowań. Modele\n",
      "udostępnione zostały na bardziej liberalnej licencji\n",
      ". W styczniu 2025 roku firma\n",
      "wypuściła w formie otwartego kodu model DeepSeek R1, mający 671 miliardów parametrów. Jego wydajność jest porównywalna z modelem OpenAI o1, przy znacznie niższych kosztach eksploatacji\n",
      ".\n",
      "Od 2023 roku wiele modeli ma charakter\n",
      ", co oznacza, że potrafią analizować i generować różne typy danych, takie jak tekst, obrazy czy dźwięk\n",
      ".\n",
      "W roku 2024 największe i najbardziej zaawansowane modele językowe oparte są na architekturze transformatora. Niektóre nowsze implementacje wykorzystują jednak inne podejścia, takie jak\n",
      "(RNN) czy\n",
      "﻿\n",
      ".\n",
      "Trenowanie i architektura\n",
      "[\n",
      "|\n",
      "]\n",
      "Zobacz też:\n",
      ".\n",
      "Wzmacnianie z informacją zwrotną od człowieka\n",
      "[\n",
      "|\n",
      "]\n",
      "to metoda umożliwiająca dostosowanie działania modelu językowego do ludzkich oczekiwań. Preferencje użytkowników definiuje się poprzez trenowanie tzw. modelu nagród, który następnie służy do dalszego uczenia modelu językowego z wykorzystaniem algorytmów\n",
      "takich jak\n",
      "proximal policy optimization\n",
      "(PPO)\n",
      ".\n",
      "Mieszanka ekspertów\n",
      "[\n",
      "|\n",
      "]\n",
      "Zobacz też:\n",
      ".\n",
      "Największe modele językowe bywają zbyt kosztowne w trenowaniu i bezpośrednim zastosowaniu. Dlatego coraz częściej stosuje się podejście mieszanki ekspertów (ang. Mixture of Experts, MoE)\n",
      ". MoE to technika, która dzieli przestrzeń problemu między wiele wyspecjalizowanych\n",
      "przez co inferencja aktywuje tylko te części sieci, które są najbardziej odpowiednie\n",
      ", a sama metoda jest zaliczana do metod\n",
      ".\n",
      "Dostrajanie na podstawie instrukcji\n",
      "[\n",
      "|\n",
      "]\n",
      "Duże modele językowe uczą się generować poprawne odpowiedzi i zastępować naiwne uzupełnienia dzięki kilku wstępnym korektom wprowadzonym przez człowieka oraz zastosowaniu podejścia\n",
      "self‑instruct\n",
      ". Na przykład w odpowiedzi na polecenie: „\n",
      "Napisz esej na temat głównych motywów przedstawionych w Hamlecie\n",
      "” model mógłby najpierw wygenerować: „\n",
      "Jeśli oddasz esej po 17 marca, Twoja ocena zostanie obniżona o 10% za każdy dzień opóźnienia\n",
      "”, bazując na częstotliwości takiego ciągu w\n",
      ".\n",
      "Koszt\n",
      "[\n",
      "|\n",
      "]\n",
      "Szacunkowy koszt trenowania wybranych modeli AI\n",
      "Trenowanie i działanie dużych modeli językowych zazwyczaj wymaga ogromnej\n",
      "i zużycia\n",
      ", co rodzi pytania dotyczące wpływu na\n",
      ".\n",
      "Rozumowanie\n",
      "[\n",
      "|\n",
      "]\n",
      "Pod koniec 2024 roku w rozwoju dużych modeli językowych pojawił się nowy kierunek, skoncentrowany na zadaniach wymagających złożonego\n",
      ". Modele tego typu, określane jako „modele rozumujące”, zostały wytrenowane tak, aby poświęcać więcej czasu na generowanie rozwiązań krok po kroku (ang. chain-of-thought) przed udzieleniem odpowiedzi końcowej – w sposób zbliżony do ludzkiego procesu rozwiązywania problemów\n",
      ". Trend ten zapoczątkowała firma OpenAI, wprowadzając we wrześniu 2024 roku model o1\n",
      ", a następnie model o3 w grudniu 2024\n",
      ". W porównaniu z tradycyjnymi LLM-ami, nowe modele wykazywały znaczną poprawę wyników w zadaniach z matematyki, nauk ścisłych oraz programowania. Przykładowo, na zadaniach z eliminacji do\n",
      "model GPT-4o uzyskał 13% skuteczności, podczas gdy model o1 osiągnął aż 83%\n",
      ".\n",
      "W styczniu 2025 roku chińska firma\n",
      "przedstawiła model DeepSeek‑R1 — model rozumowania o otwartych wagach, posiadający 671 miliardów parametrów, który osiągnął wyniki porównywalne do modelu o1 firmy OpenAI, przy znacznie niższych kosztach operacyjnych. W przeciwieństwie do zastrzeżonych modeli OpenAI, otwarta architektura DeepSeek‑R1 umożliwiła badaczom analizę i dalszy rozwój algorytmu, choć dane treningowe pozostały nieupublicznione\n",
      ".\n",
      "Tego typu podejście z reguły mają większe wymagania obliczeniowe w porównaniu z bezpośrednim podejściem ponieważ model musi generować wiele odpowiedzi dla każdego kroku jednak pozwala to na osiągnięcie lepszych wyników w dziedzinach wymagających myślenia domenowego\n",
      ". Aby zmniejszyć ilość występowania\n",
      ", stosowane są dodatkowe techniki jak\n",
      ",\n",
      "czy\n",
      ".\n",
      "Oddziaływanie\n",
      "[\n",
      "|\n",
      "]\n",
      "Istnieją opinie twierdzące, że nie ma możliwości rozróżnienia tekstu stworzonego przez duży model językowy i przez człowieka\n",
      ". Goldman Sachs w 2023 roku twierdził, że LLM-y są w stanie zwiększyć globalne\n",
      "o 7% w ciągu dekady i bedą potrafiły wystawić na automatyzację pracę 300 mln osób\n",
      ".\n",
      "Prawa autorskie\n",
      "[\n",
      "|\n",
      "]\n",
      "W roku 2023, do sądów w Stanach Zjednoczonych wpłynęło kilka wniosków podważających używanie danych chronionych\n",
      "do trenowania modeli językowych z obrońcami opierającymi się na instytucję\n",
      ".\n",
      "Bezpieczeństwo\n",
      "[\n",
      "|\n",
      "]\n",
      "Duże modele językowe mogą być używane do tworzenia\n",
      ", w sposób świadomy lub nie lub do innych celów\n",
      ". Dostępność dużych modeli językowych może pozwolić na obniżenie poziom umiejętności wymaganych do popełnienia czynów\n",
      ".\n",
      "Dodatkowo, istnieje możliwość osadzenia uśpionych\n",
      ", czyli ukrytych funkcjonalności, które w normalnych warunkach nie wykonują akcji, a po uzyskaniu impulsu aktywującego, rozpoczynają wykonywania szkodliwych działań\n",
      ".\n",
      "Aplikacje LLM zawierają odpowiednie filtry moderacyjne jednak nie są one w pełni efektywne i pozwalają na wykorzystanie jako\n",
      "czy różnych nielegalnych operacji\n",
      ".\n",
      "Stronniczość algorytmiczna\n",
      "[\n",
      "|\n",
      "]\n",
      "Podczas gdy duże modele językowe są w stanie generować tekst przypominający ludzki, są skłonne do dziedziczenia i powiększania stronniczości zawartej w\n",
      ". Stronniczość może się objawiać w błędnym i niesprawiedliwym traktowaniu różnych grup demograficznych\n",
      ".\n",
      "Zobacz też\n",
      "[\n",
      "|\n",
      "]\n",
      "Przypisy\n",
      "[\n",
      "|\n",
      "]\n",
      "Linki zewnętrzne\n",
      "[\n",
      "|\n",
      "]\n",
      "Pojęcia\n",
      "Zastosowania\n",
      "Implementacje\n",
      "Audio-wizualne\n",
      "Tekstowe\n",
      "Decyzyjne\n",
      "Architektury\n",
      "i\n",
      "Paradygmaty\n",
      "Problemy\n",
      "(\n",
      ",\n",
      ")\n",
      "(\n",
      "):\n",
      ":\n",
      "Źródło: „\n",
      "”\n",
      ":\n",
      "Ukryte kategorie:\n",
      "Szukaj\n",
      "Szukaj\n",
      "Przełącz stan spisu treści\n",
      "Duży model językowy\n",
      "56 języków\n"
     ]
    }
   ],
   "source": [
    "web = Website(\"https://pl.wikipedia.org/wiki/Du%C5%BCy_model_j%C4%99zykowy\")\n",
    "print(\"Title: \", web.title)\n",
    "print(\"text: \", web.text)"
   ]
  },
  {
   "cell_type": "code",
   "execution_count": 16,
   "id": "95220c2d-3605-4fa0-9c1b-3dcef43c6e52",
   "metadata": {},
   "outputs": [],
   "source": [
    "system_prompt = \"You are an assistant that analyzes the contents of a website \\\n",
    "and provides a short summary, ignoring text that might be navigation related. \\\n",
    "Respond in markdown in Polish.\""
   ]
  },
  {
   "cell_type": "code",
   "execution_count": 8,
   "id": "55760638-b222-41f4-a2a2-39896664a4d9",
   "metadata": {},
   "outputs": [],
   "source": [
    "def user_prompt_for(website):\n",
    "    user_prompt = f\"You are looking at a website titled {website.title}\"\n",
    "    user_prompt += \"\\nThe contents of this website is as follows; \\\n",
    "please provide a not long summary of this website in markdown. \\\n",
    "If it includes news or announcements, then summarize these too.\\n\\n\"\n",
    "    user_prompt += website.text\n",
    "    return user_prompt"
   ]
  },
  {
   "cell_type": "code",
   "execution_count": 9,
   "id": "08c1386e-3b5f-4598-950c-020f4b47444f",
   "metadata": {},
   "outputs": [],
   "source": [
    "def messages_for(website):\n",
    "    return [\n",
    "        {\"role\": \"system\", \"content\": system_prompt},\n",
    "        {\"role\": \"user\", \"content\": user_prompt_for(website)}\n",
    "    ]"
   ]
  },
  {
   "cell_type": "code",
   "execution_count": 13,
   "id": "6bd06022-46c7-409d-ae99-1013ec6f991f",
   "metadata": {},
   "outputs": [
    {
     "data": {
      "text/plain": [
       "[{'role': 'system',\n",
       "  'content': 'You are an assistant that analyzes the contents of a website and provides a short summary, ignoring text that might be navigation related. Respond in markdown in Polish.'},\n",
       " {'role': 'user',\n",
       "  'content': 'You are looking at a website titled Duży model językowy – Wikipedia, wolna encyklopedia\\nThe contents of this website is as follows; please provide a not long summary of this website in markdown. If it includes news or announcements, then summarize these too.\\n\\nMenu główne\\nMenu główne\\nprzypnij\\nukryj\\nNawigacja\\nDla czytelników\\nDla wikipedystów\\nSzukaj\\nWygląd\\nNarzędzia osobiste\\nSpis treści\\nprzypnij\\nukryj\\nPrzełącz stan spisu treści\\nDuży model językowy\\n56 języków\\npolski\\nNarzędzia\\nNarzędzia\\nprzypnij\\nukryj\\nDziałania\\nOgólne\\nDrukuj lub eksportuj\\nW innych projektach\\nWygląd\\nprzypnij\\nukryj\\nZ Wikipedii, wolnej encyklopedii\\nDuży model językowy\\n(ang.\\nlarge language model\\n,\\nLLM\\n)\\n–\\nwyszkolony na dużej ilości danych umożliwiający generowanie tekstu oraz realizację zadań związanych z\\n. Modele\\nLLM\\nsą szkolone w ramach\\nlub słabo nadzorowanego\\nz wykorzystaniem dużych ilości danych tekstowych. Proces ten jest intensywny obliczeniowo\\n. Duże modele językowe mogą być wykorzystywane do generowana tekstu poprzez wielokrotne przewidywanie następnego tokenu lub słowa, przez co zaliczane są do\\n.\\nDuże modele językowe są\\n. Największe i najbardziej zdolne modele językowe oparte są na architekturze\\n.\\nPrzykładami dużych modeli językowych są modele z serii\\nzbudowane przez\\n(np.\\n\\ufeff\\n,\\n\\ufeff\\n), używane w chatbotach\\ni Microsoft Copilot, a także modele\\nzbudowane przez\\n. Istnieją również chińskie modele jak\\nczy polskie jak\\ni\\n.\\nHistoria\\n[\\n|\\n]\\nPrzed rokiem 2017 istniało kilka modeli językowych, które — jak na ówczesne możliwości — były uważane za duże. W latach 90.\\npozwoliły na rozwinięcie się metod statystycznego modelowania języka. W 2001 roku model bazujący na\\nzostał wytrenowany na 300 milionach słów\\n. W latach dwutysięcznych, wraz z popularyzacją\\n, rozpoczęto tworzenie zbiorów językowych o skali porównywalnej z Internetem\\n, na bazie których podjęto próby uczenia statystycznych modeli językowych\\n.\\nPo tym, jak sieci neuronowe stały się popularne w przetwarzaniu obrazów około 2012 roku\\n, zaczęto je również stosować do przetwarzania tekstu. W 2016 roku Google wprowadziło w\\nswój model językowy oparty na\\n.\\nWykres pokazujący łączną ilość obliczeń (we\\n-sach) wymaganą do wytrenowania modelu w kolejnych latach dla wybranych dużych modeli AI. Większość dużych modeli to modele językowe lub mutlimodalne ze zdolnościami przetwarzania języka.\\nW 2017 roku naukowcy z Google zaproponowali architekturę\\nopartą na\\nopracowanym w 2014 roku\\n. W 2018 roku Google wypuściło model BERT oparty wyłącznie na\\n. Od 2023 roku akademickie i badawcze zainteresowanie BERT-em zaczęło stopniowo maleć na rzecz modeli opartych na\\njak\\n.\\nOd 2022 roku zyskują na popularności modele o otwartym kodzie źródłowym – początkowo za sprawą projektów takich jak BLOOM\\ni\\n, choć oba objęte są ograniczeniami dotyczącymi zakresu zastosowań. Modele\\nudostępnione zostały na bardziej liberalnej licencji\\n. W styczniu 2025 roku firma\\nwypuściła w formie otwartego kodu model DeepSeek R1, mający 671 miliardów parametrów. Jego wydajność jest porównywalna z modelem OpenAI o1, przy znacznie niższych kosztach eksploatacji\\n.\\nOd 2023 roku wiele modeli ma charakter\\n, co oznacza, że potrafią analizować i generować różne typy danych, takie jak tekst, obrazy czy dźwięk\\n.\\nW roku 2024 największe i najbardziej zaawansowane modele językowe oparte są na architekturze transformatora. Niektóre nowsze implementacje wykorzystują jednak inne podejścia, takie jak\\n(RNN) czy\\n\\ufeff\\n.\\nTrenowanie i architektura\\n[\\n|\\n]\\nZobacz też:\\n.\\nWzmacnianie z informacją zwrotną od człowieka\\n[\\n|\\n]\\nto metoda umożliwiająca dostosowanie działania modelu językowego do ludzkich oczekiwań. Preferencje użytkowników definiuje się poprzez trenowanie tzw. modelu nagród, który następnie służy do dalszego uczenia modelu językowego z wykorzystaniem algorytmów\\ntakich jak\\nproximal policy optimization\\n(PPO)\\n.\\nMieszanka ekspertów\\n[\\n|\\n]\\nZobacz też:\\n.\\nNajwiększe modele językowe bywają zbyt kosztowne w trenowaniu i bezpośrednim zastosowaniu. Dlatego coraz częściej stosuje się podejście mieszanki ekspertów (ang. Mixture of Experts, MoE)\\n. MoE to technika, która dzieli przestrzeń problemu między wiele wyspecjalizowanych\\nprzez co inferencja aktywuje tylko te części sieci, które są najbardziej odpowiednie\\n, a sama metoda jest zaliczana do metod\\n.\\nDostrajanie na podstawie instrukcji\\n[\\n|\\n]\\nDuże modele językowe uczą się generować poprawne odpowiedzi i zastępować naiwne uzupełnienia dzięki kilku wstępnym korektom wprowadzonym przez człowieka oraz zastosowaniu podejścia\\nself‑instruct\\n. Na przykład w odpowiedzi na polecenie: „\\nNapisz esej na temat głównych motywów przedstawionych w Hamlecie\\n” model mógłby najpierw wygenerować: „\\nJeśli oddasz esej po 17 marca, Twoja ocena zostanie obniżona o 10% za każdy dzień opóźnienia\\n”, bazując na częstotliwości takiego ciągu w\\n.\\nKoszt\\n[\\n|\\n]\\nSzacunkowy koszt trenowania wybranych modeli AI\\nTrenowanie i działanie dużych modeli językowych zazwyczaj wymaga ogromnej\\ni zużycia\\n, co rodzi pytania dotyczące wpływu na\\n.\\nRozumowanie\\n[\\n|\\n]\\nPod koniec 2024 roku w rozwoju dużych modeli językowych pojawił się nowy kierunek, skoncentrowany na zadaniach wymagających złożonego\\n. Modele tego typu, określane jako „modele rozumujące”, zostały wytrenowane tak, aby poświęcać więcej czasu na generowanie rozwiązań krok po kroku (ang. chain-of-thought) przed udzieleniem odpowiedzi końcowej – w sposób zbliżony do ludzkiego procesu rozwiązywania problemów\\n. Trend ten zapoczątkowała firma OpenAI, wprowadzając we wrześniu 2024 roku model o1\\n, a następnie model o3 w grudniu 2024\\n. W porównaniu z tradycyjnymi LLM-ami, nowe modele wykazywały znaczną poprawę wyników w zadaniach z matematyki, nauk ścisłych oraz programowania. Przykładowo, na zadaniach z eliminacji do\\nmodel GPT-4o uzyskał 13% skuteczności, podczas gdy model o1 osiągnął aż 83%\\n.\\nW styczniu 2025 roku chińska firma\\nprzedstawiła model DeepSeek‑R1 — model rozumowania o otwartych wagach, posiadający 671 miliardów parametrów, który osiągnął wyniki porównywalne do modelu o1 firmy OpenAI, przy znacznie niższych kosztach operacyjnych. W przeciwieństwie do zastrzeżonych modeli OpenAI, otwarta architektura DeepSeek‑R1 umożliwiła badaczom analizę i dalszy rozwój algorytmu, choć dane treningowe pozostały nieupublicznione\\n.\\nTego typu podejście z reguły mają większe wymagania obliczeniowe w porównaniu z bezpośrednim podejściem ponieważ model musi generować wiele odpowiedzi dla każdego kroku jednak pozwala to na osiągnięcie lepszych wyników w dziedzinach wymagających myślenia domenowego\\n. Aby zmniejszyć ilość występowania\\n, stosowane są dodatkowe techniki jak\\n,\\nczy\\n.\\nOddziaływanie\\n[\\n|\\n]\\nIstnieją opinie twierdzące, że nie ma możliwości rozróżnienia tekstu stworzonego przez duży model językowy i przez człowieka\\n. Goldman Sachs w 2023 roku twierdził, że LLM-y są w stanie zwiększyć globalne\\no 7% w ciągu dekady i bedą potrafiły wystawić na automatyzację pracę 300 mln osób\\n.\\nPrawa autorskie\\n[\\n|\\n]\\nW roku 2023, do sądów w Stanach Zjednoczonych wpłynęło kilka wniosków podważających używanie danych chronionych\\ndo trenowania modeli językowych z obrońcami opierającymi się na instytucję\\n.\\nBezpieczeństwo\\n[\\n|\\n]\\nDuże modele językowe mogą być używane do tworzenia\\n, w sposób świadomy lub nie lub do innych celów\\n. Dostępność dużych modeli językowych może pozwolić na obniżenie poziom umiejętności wymaganych do popełnienia czynów\\n.\\nDodatkowo, istnieje możliwość osadzenia uśpionych\\n, czyli ukrytych funkcjonalności, które w normalnych warunkach nie wykonują akcji, a po uzyskaniu impulsu aktywującego, rozpoczynają wykonywania szkodliwych działań\\n.\\nAplikacje LLM zawierają odpowiednie filtry moderacyjne jednak nie są one w pełni efektywne i pozwalają na wykorzystanie jako\\nczy różnych nielegalnych operacji\\n.\\nStronniczość algorytmiczna\\n[\\n|\\n]\\nPodczas gdy duże modele językowe są w stanie generować tekst przypominający ludzki, są skłonne do dziedziczenia i powiększania stronniczości zawartej w\\n. Stronniczość może się objawiać w błędnym i niesprawiedliwym traktowaniu różnych grup demograficznych\\n.\\nZobacz też\\n[\\n|\\n]\\nPrzypisy\\n[\\n|\\n]\\nLinki zewnętrzne\\n[\\n|\\n]\\nPojęcia\\nZastosowania\\nImplementacje\\nAudio-wizualne\\nTekstowe\\nDecyzyjne\\nArchitektury\\ni\\nParadygmaty\\nProblemy\\n(\\n,\\n)\\n(\\n):\\n:\\nŹródło: „\\n”\\n:\\nUkryte kategorie:\\nSzukaj\\nSzukaj\\nPrzełącz stan spisu treści\\nDuży model językowy\\n56 języków'}]"
      ]
     },
     "execution_count": 13,
     "metadata": {},
     "output_type": "execute_result"
    }
   ],
   "source": [
    "messages_for(web)"
   ]
  },
  {
   "cell_type": "code",
   "execution_count": 17,
   "id": "bc70b94f-e4e3-4c3b-bc18-6e682f5387a8",
   "metadata": {},
   "outputs": [],
   "source": [
    "MODEL='llama3.2'\n",
    "def summarize(url):\n",
    "    website = Website(url)\n",
    "    response = ollama.chat(\n",
    "        model=MODEL,\n",
    "        messages=messages_for(website)\n",
    "    )\n",
    "    return response['message']['content']"
   ]
  },
  {
   "cell_type": "code",
   "execution_count": 19,
   "id": "2d158e22-18eb-4d88-aafa-9383c2e264b1",
   "metadata": {},
   "outputs": [
    {
     "data": {
      "text/plain": [
       "'**Podsumowanie strony**\\n\\nStrona **Akademii Nauk Stosowanych w Elblągu** to oficjalna strona instytucji edukacyjnej, która informuje o swojej działalności, wydarściach i niedawnych komunikatach prasowych.\\n\\n**Aktualności**\\n\\nOto najnowsze informacje zaktualnione w dniu 24 czerwca 2025:\\n\\n* Przygotowanie do studiów na kierunku **Przygotowanie Pedagogiczne**: trwa rekrutacja.\\n* Konferencja Naukowa \"Zachowania autodestrukcyjne dzieci i młodzieży. Współczesne wyzwania placówek oświatowych\" odbyła się w przeszłości.\\n* III Festiwal Wiedzy** z udziałem 170 uczniów z klas III z 6 Szkół Podstawowych z Elbląga.\\n\\n**Inne informacje**\\n\\nStrona ta wykorzystuje pliki cookies.'"
      ]
     },
     "execution_count": 19,
     "metadata": {},
     "output_type": "execute_result"
    }
   ],
   "source": [
    "#summarize(\"https://wp.pl\")\n",
    "summarize(\"https://ans-elblag.pl\")"
   ]
  },
  {
   "cell_type": "code",
   "execution_count": 20,
   "id": "0ddac3b4-487c-4db0-9363-a4633c0f1a78",
   "metadata": {},
   "outputs": [],
   "source": [
    "def display_summary(url):\n",
    "    summary = summarize (url)\n",
    "    display (Markdown (summary))"
   ]
  },
  {
   "cell_type": "code",
   "execution_count": 21,
   "id": "f7d78384-eb7e-4a92-8816-b181c9fa61a6",
   "metadata": {},
   "outputs": [
    {
     "data": {
      "text/markdown": [
       "**Strona główna Akademii Nauk Stosowanych w Elblągu**\n",
       "\n",
       "* Akademia prowadzi studia na różne poziomy i oferuje kierunki naukowe, w tym podyplomowe.\n",
       "* Aktualnie trwa rekrutacja na studia podyplomowe na kierunku Przygotowanie Pedagogiczne.\n",
       "* W przeszłości odbyły się wydarzenia takie jak Konferencja Naukowa \"Zachowania autodestrukcyjne dzieci i młodzieży. Współczesne wyzwania placówek oświatowych\" oraz III Festiwal Wiedzy, w którym udział wzięło 170 uczniów.\n",
       "* Akademia ma certyfikat ISO 9001, co wskazuje na jej niezawodność i jakość."
      ],
      "text/plain": [
       "<IPython.core.display.Markdown object>"
      ]
     },
     "metadata": {},
     "output_type": "display_data"
    }
   ],
   "source": [
    "display_summary(\"https://ans-elblag.pl\")"
   ]
  },
  {
   "cell_type": "code",
   "execution_count": null,
   "id": "63393416-6209-4cee-a3f0-b2f11d13431d",
   "metadata": {},
   "outputs": [],
   "source": []
  }
 ],
 "metadata": {
  "kernelspec": {
   "display_name": "Python 3 (ipykernel)",
   "language": "python",
   "name": "python3"
  },
  "language_info": {
   "codemirror_mode": {
    "name": "ipython",
    "version": 3
   },
   "file_extension": ".py",
   "mimetype": "text/x-python",
   "name": "python",
   "nbconvert_exporter": "python",
   "pygments_lexer": "ipython3",
   "version": "3.11.13"
  }
 },
 "nbformat": 4,
 "nbformat_minor": 5
}
